{
 "cells": [
  {
   "cell_type": "code",
   "execution_count": 3,
   "metadata": {},
   "outputs": [
    {
     "data": {
      "text/html": [
       "\n",
       "<script src=\"https://stackpath.bootstrapcdn.com/bootstrap/4.3.1/js/bootstrap.min.js\" integrity=\"sha384-JjSmVgyd0p3pXB1rRibZUAYoIIy6OrQ6VrjIEaFf/nJGzIxFDsf4x0xIM+B07jRM\" crossorigin=\"anonymous\"></script>\n",
       "\n",
       "<style>\n",
       "\n",
       "@import url(https://fonts.googleapis.com/css?family=Open+Sans);body{\n",
       "   font-family: 'Open Sans';\n",
       "   font-size: 125%;\n",
       "}\n",
       "\n",
       ".talk_title\n",
       "{\n",
       "  color: #498AF3;\n",
       "  font-size: 275%;\n",
       "  font-weight:bold;\n",
       "  line-height: 1.3; \n",
       "  margin: 10px 50px 10px;\n",
       "  }\n",
       "\n",
       ".subtitle\n",
       "{\n",
       "  color: #386BBC;\n",
       "  font-size: 180%;\n",
       "  font-weight:bold;\n",
       "  line-height: 1.2; \n",
       "  margin: 20px 50px 20px;\n",
       "  }\n",
       "\n",
       ".rendered_html h1\n",
       "{\n",
       "  color: #498AF3;\n",
       "  line-height: 1.2; \n",
       "  margin: 0.15em 0em 0.5em;\n",
       "  page-break-before: always;\n",
       "  text-align: center;\n",
       "  }\n",
       "\n",
       "\n",
       ".center\n",
       "{\n",
       "  text-align: center;\n",
       "  }\n",
       "\n",
       ".nb_link\n",
       "{\n",
       "    padding-bottom: 0.5em;\n",
       "}\n",
       "\n",
       "</style>"
      ],
      "text/plain": [
       "<IPython.core.display.HTML object>"
      ]
     },
     "metadata": {},
     "output_type": "display_data"
    }
   ],
   "source": [
    "%run ../talktools.py"
   ]
  },
  {
   "cell_type": "markdown",
   "metadata": {},
   "source": [
    "# Meeting/Lecture 4 - Jan 30\n",
    "\n",
    "\n",
    "## Office Hours\n",
    "\n",
    "* Dan Tuesday 3:30-4:40pm in 355 Campbell\n",
    "* TALC Weds 2-4pm in 131 Campbell\n",
    "\n",
    "## Agenda\n",
    " \n",
    "* __Lab 0 checkpoint 2 due at midnight on Tuesday 1/30__\n",
    "* __Lab 0 due at midnight on Thursday 2/1__\n",
    " \n",
    "* Introduction (this notebook, *00_Introduction*)\n",
    "* Reminder of what's due for Lab 0: __Turn in PDF of your notebook used to create checkpoint plot__\n",
    "* Astrophysical background on Variable Stars (*01_variable_stars.ipynb*)\n",
    "* Work time\n",
    "\n",
    "\n",
    "* Astrophysics background reading material now available on bCourses (under 'files')\n",
    "\n",
    "\n",
    "* Reminder: a main class goal is to gently expose you to independent research\n",
    " - new things you've (likely) learned so far: ADQL queries, astronomical coordinate systems, caching, proper motions, stellar physics and stellar evolution, star clusters, Gaia mission, visualization techniques, reading research literature, ...\n",
    "\n",
    "\n",
    "* Grading\n",
    " - Checkpoints mostly on completeness\n",
    " - Labs on accuracy and completeness\n",
    "* Astrophysics / coding support (how to parse astro papers, does my ADQL query/plot/code seem reasonable, etc.) -- ask!!\n",
    "* Office hours timing -- most replied that current TALC/OH schedule is OK; if not, schedule an appt with us\n",
    "\n",
    "\n",
    "* Looking ahead to Lab 1\n",
    " - Weds 1/31 Lab 1 released online\n",
    " - Thursday 2/1 - Lab 0 checkpoint 2 discussion, Lab 1 introduction, work time to finalize Lab 0\n",
    " - Next week: Lectures on Periodograms and Bayesian inference, intro to lab reports in LaTex\n",
    "\n",
    "## Getting these notebooks \n",
    "```bash\n",
    "git clone https://github.com/ucb-datalab/course_materials_2024.git\n",
    "cd course_materials_2024\n",
    "jupyter notebook\n",
    "```"
   ]
  },
  {
   "cell_type": "code",
   "execution_count": null,
   "metadata": {},
   "outputs": [],
   "source": [
    "students = [\"Arabhi A.\", \"Kennedy B.\", \"Pallas B.\", \"Ali F.\",\n",
    "            \"Noah F.\", \"Jillian G.\", \"Enmanuel H.\", \"Rose H.\",\n",
    "            \"Serli H.\", \"Toshani K.\", \"Vivian K.\", \"Sagneeta K.\",\n",
    "            \"Manpreet K.\", \"Vy L.\", \"Matthew L.\", \"Youxun L.\", \"Neo M.\", \n",
    "            \"Tess M.\", \"Saahit M.\", \"Hien N.\", \"Zcjanin O.\", \"David P.\",\n",
    "            \"Angel T.\", \"Asher W.\", \"Kasey Z.\", \"Yijun Z.\" ]"
   ]
  },
  {
   "cell_type": "code",
   "execution_count": null,
   "metadata": {},
   "outputs": [],
   "source": [
    "print(f\"Today we have {len(students)} students.\")\n",
    "print(f\"There are no name conflicts: {len(students) == len(set(students))}\")"
   ]
  },
  {
   "cell_type": "code",
   "execution_count": null,
   "metadata": {},
   "outputs": [],
   "source": [
    "n_groups = 6 # 4 groups of 4, 2 groups of 5"
   ]
  },
  {
   "cell_type": "markdown",
   "metadata": {},
   "source": [
    "When using randomness, it's almost always a good idea to be able to reproduce the\n",
    "results. Pseudo-random number generators are \"seeded\" with a number and then yield \n",
    "seemingly random numbers after that. But those numbers are deterministic given the seed\n",
    "and the calling sequence of the generator.\n",
    "\n",
    "See https://www.numpy.org/devdocs/reference/generated/numpy.random.RandomState.html"
   ]
  },
  {
   "cell_type": "code",
   "execution_count": null,
   "metadata": {},
   "outputs": [],
   "source": [
    "class_seed =  75   # let's set this together\n",
    "rnd = np.random.RandomState(class_seed)"
   ]
  },
  {
   "cell_type": "code",
   "execution_count": null,
   "metadata": {},
   "outputs": [],
   "source": [
    "import copy\n",
    "\n",
    "shuffled_students = copy.copy(students)\n",
    "rnd.shuffle(shuffled_students)\n",
    "shuffled_students"
   ]
  },
  {
   "cell_type": "markdown",
   "metadata": {},
   "source": [
    "Now make the groups..."
   ]
  },
  {
   "cell_type": "code",
   "execution_count": null,
   "metadata": {},
   "outputs": [],
   "source": [
    "for group_num, members in enumerate(np.array_split(shuffled_students,  n_groups)):\n",
    "    print(f\"Group {group_num}: {', '.join(list(members))}\")"
   ]
  },
  {
   "cell_type": "code",
   "execution_count": null,
   "metadata": {},
   "outputs": [],
   "source": []
  }
 ],
 "metadata": {
  "kernelspec": {
   "display_name": "Python 3",
   "language": "python",
   "name": "python3"
  },
  "language_info": {
   "codemirror_mode": {
    "name": "ipython",
    "version": 3
   },
   "file_extension": ".py",
   "mimetype": "text/x-python",
   "name": "python",
   "nbconvert_exporter": "python",
   "pygments_lexer": "ipython3",
   "version": "3.8.8"
  }
 },
 "nbformat": 4,
 "nbformat_minor": 4
}
