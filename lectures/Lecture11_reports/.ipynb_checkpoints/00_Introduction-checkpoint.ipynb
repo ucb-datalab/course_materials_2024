{
 "cells": [
  {
   "cell_type": "code",
   "execution_count": 1,
   "metadata": {},
   "outputs": [
    {
     "data": {
      "text/html": [
       "\n",
       "<script src=\"https://stackpath.bootstrapcdn.com/bootstrap/4.3.1/js/bootstrap.min.js\" integrity=\"sha384-JjSmVgyd0p3pXB1rRibZUAYoIIy6OrQ6VrjIEaFf/nJGzIxFDsf4x0xIM+B07jRM\" crossorigin=\"anonymous\"></script>\n",
       "\n",
       "<style>\n",
       "\n",
       "@import url(https://fonts.googleapis.com/css?family=Open+Sans);body{\n",
       "   font-family: 'Open Sans';\n",
       "   font-size: 125%;\n",
       "}\n",
       "\n",
       ".talk_title\n",
       "{\n",
       "  color: #498AF3;\n",
       "  font-size: 275%;\n",
       "  font-weight:bold;\n",
       "  line-height: 1.3; \n",
       "  margin: 10px 50px 10px;\n",
       "  }\n",
       "\n",
       ".subtitle\n",
       "{\n",
       "  color: #386BBC;\n",
       "  font-size: 180%;\n",
       "  font-weight:bold;\n",
       "  line-height: 1.2; \n",
       "  margin: 20px 50px 20px;\n",
       "  }\n",
       "\n",
       ".rendered_html h1\n",
       "{\n",
       "  color: #498AF3;\n",
       "  line-height: 1.2; \n",
       "  margin: 0.15em 0em 0.5em;\n",
       "  page-break-before: always;\n",
       "  text-align: center;\n",
       "  }\n",
       "\n",
       "\n",
       ".center\n",
       "{\n",
       "  text-align: center;\n",
       "  }\n",
       "\n",
       ".nb_link\n",
       "{\n",
       "    padding-bottom: 0.5em;\n",
       "}\n",
       "\n",
       "</style>"
      ],
      "text/plain": [
       "<IPython.core.display.HTML object>"
      ]
     },
     "metadata": {},
     "output_type": "display_data"
    }
   ],
   "source": [
    "%run ../talktools.py"
   ]
  },
  {
   "cell_type": "markdown",
   "metadata": {},
   "source": [
    "# Meeting/Lecture 11 - Feb 22\n",
    "\n",
    "\n",
    "## Office Hours\n",
    "\n",
    "* Anna: Thursday 10:30-11:30am in 355 Campbell\n",
    "* Oliva: Friday 1:30-2:30pm in 419 Campbell\n",
    "* Oliva/Anna: Monday 1:30-2:30pm in 355 Campbell\n",
    "* Dan: Tuesday 3:30-4:30pm in 355 Campbell\n",
    "* TALC: Wednesday 2-4pm in 131 Campbell\n",
    "\n",
    "## Astronomy Talks\n",
    "* Lunch talks: Thursdays 12:30-1:30pm in 131 Campbell\n",
    "* Colloquium: Thursday 3:30-4:30 in 1 Physics North\n",
    "* Note: Thursday 3/21 Nobel Laureate Adam Riess is speaking at lunch and colloquium\n",
    "\n",
    "## Asking Questions\n",
    "* Please ask us more questions\n",
    "* If you have 20 questions you want to post on Ed -- go for it!\n",
    "* Research questions are more vague than problem sets\n",
    " - if what we're asking for isn't clear to you, please ask us\n",
    "\n",
    "## Agenda\n",
    "\n",
    "* __Lab 1 checkpoint 2 due Friday 2/23 by midnight via bCourses__\n",
    "* __Lab 1 checkpoint 3 due Thursday 2/27 by midnight via bCourses__\n",
    "* __Lab 1 report due Monday 3/4 by midnight via bCourses__\n",
    " - The final submission for Lab 1 will be a report write up\n",
    "* Introduction (this notebook, *00_Introduction*)\n",
    "* Writing up lab reports\n",
    "* Work time or pymc example notebook (*01_MCMC_hubble_example*)\n",
    " \n",
    "\n",
    "## Getting these notebooks \n",
    "```bash\n",
    "git clone https://github.com/ucb-datalab/course_materials_2024.git\n",
    "cd course_materials_2024\n",
    "jupyter notebook\n",
    "```"
   ]
  },
  {
   "cell_type": "markdown",
   "metadata": {},
   "source": [
    "## Lab write ups\n",
    "\n",
    "<img src=\"paper_structure.png\"/></img>"
   ]
  },
  {
   "cell_type": "markdown",
   "metadata": {},
   "source": [
    "## Scientific paper are often write in \"Tex\"\n",
    " * <a ref=\"https://en.wikipedia.org/wiki/TeX\">Tex</a> is a document production system that is particularly useful for formatting math and science papers\n",
    " * LaTex is a commonly used version of Tex\n",
    " * Tex/LaTex differs from MS Word, Google Docs, etc. which are WYSISYG editors\n",
    " * Tex/LaTex takes a plain text file that contains your writing and compiles it into a production ready document\n",
    " * You can install LaTex locally or better yet use <a href=\"https://www.overleaf.com\">Overleaf</a>\n",
    "  - Berkeley has a site license for overleaf, so you all have access\n",
    " * We've prepared an Tex template that you can use to get started on your reports\n",
    " * It takes a little time to get used to using Tex, so please plan accordingly (time management)"
   ]
  },
  {
   "cell_type": "markdown",
   "metadata": {},
   "source": [
    "### Useful resources for LaTex and Lab Reports\n",
    "* Overleaf tutorial for using LaTex: <a href=\"https://www.overleaf.com/learn/latex/Learn_LaTeX_in_30_minutes\"/>Learn LaTex in 30 minutes</a>\n",
    "* AY 121 (radio lab) has published a lot of useful info about getting started with LaTex:\n",
    "    - Lab report template (e.g., how to fold in figures, tables, etc) is <a href=\"https://github.com/AaronParsons/ugradio/tree/main/latex_template\"/>here</a>\n",
    "    - Tex tips are <a href=\"https://github.com/AaronParsons/ugradio/tree/main/texprimer\">here</a>\n",
    "* We have put together a very basic example write up template for you"
   ]
  },
  {
   "cell_type": "markdown",
   "metadata": {},
   "source": [
    "### Checkpoint 2 plots\n",
    "* 19.i: <img src='19i_example.png'></img>\n",
    " - also need to include step vs lnP\n",
    "* 19.iii: <img src='corner_plot'></img>"
   ]
  },
  {
   "cell_type": "markdown",
   "metadata": {},
   "source": [
    "### Checkpoint 3 plot\n",
    "\n",
    "* Your RR Lyare extinction map\n",
    "\n",
    "<img src='extinction_map'></img>\n"
   ]
  },
  {
   "cell_type": "markdown",
   "metadata": {},
   "source": [
    "### Perfect is the enemy of good enough\n",
    "* In problem sets, you often need to get every sub-step \"right\" in order to progress\n",
    "* In research, it's often advisable to do \"good enough\" sub-steps and move on\n",
    " - then you go back and improve each sub-step iteratively\n",
    "* Example: fitting k-modes\n",
    " - may not have gotten the pefect K-mode fit on the first attempt, but got a result that was not terrible (e.g., K=0, K=25)\n",
    " - instead of trying to perfect the K-mode fit, use what you have to move on to the rest of the problems to get to the checkpoint OR you use the data-averaged magnitudes to move forward\n",
    " - then after sketching out a framework for the entire problem (i.e., checkpoint or lab), you go back and iteratively improve your results\n",
    " - __The approach to research problems is fundmentally different than what you need for problem sets__"
   ]
  },
  {
   "cell_type": "code",
   "execution_count": null,
   "metadata": {},
   "outputs": [],
   "source": []
  }
 ],
 "metadata": {
  "kernelspec": {
   "display_name": "Python 3",
   "language": "python",
   "name": "python3"
  },
  "language_info": {
   "codemirror_mode": {
    "name": "ipython",
    "version": 3
   },
   "file_extension": ".py",
   "mimetype": "text/x-python",
   "name": "python",
   "nbconvert_exporter": "python",
   "pygments_lexer": "ipython3",
   "version": "3.8.8"
  }
 },
 "nbformat": 4,
 "nbformat_minor": 4
}
