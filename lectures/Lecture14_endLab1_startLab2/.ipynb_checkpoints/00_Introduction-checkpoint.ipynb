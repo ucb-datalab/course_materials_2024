{
 "cells": [
  {
   "cell_type": "code",
   "execution_count": 1,
   "metadata": {},
   "outputs": [
    {
     "data": {
      "text/html": [
       "\n",
       "<script src=\"https://stackpath.bootstrapcdn.com/bootstrap/4.3.1/js/bootstrap.min.js\" integrity=\"sha384-JjSmVgyd0p3pXB1rRibZUAYoIIy6OrQ6VrjIEaFf/nJGzIxFDsf4x0xIM+B07jRM\" crossorigin=\"anonymous\"></script>\n",
       "\n",
       "<style>\n",
       "\n",
       "@import url(https://fonts.googleapis.com/css?family=Open+Sans);body{\n",
       "   font-family: 'Open Sans';\n",
       "   font-size: 125%;\n",
       "}\n",
       "\n",
       ".talk_title\n",
       "{\n",
       "  color: #498AF3;\n",
       "  font-size: 275%;\n",
       "  font-weight:bold;\n",
       "  line-height: 1.3; \n",
       "  margin: 10px 50px 10px;\n",
       "  }\n",
       "\n",
       ".subtitle\n",
       "{\n",
       "  color: #386BBC;\n",
       "  font-size: 180%;\n",
       "  font-weight:bold;\n",
       "  line-height: 1.2; \n",
       "  margin: 20px 50px 20px;\n",
       "  }\n",
       "\n",
       ".rendered_html h1\n",
       "{\n",
       "  color: #498AF3;\n",
       "  line-height: 1.2; \n",
       "  margin: 0.15em 0em 0.5em;\n",
       "  page-break-before: always;\n",
       "  text-align: center;\n",
       "  }\n",
       "\n",
       "\n",
       ".center\n",
       "{\n",
       "  text-align: center;\n",
       "  }\n",
       "\n",
       ".nb_link\n",
       "{\n",
       "    padding-bottom: 0.5em;\n",
       "}\n",
       "\n",
       "</style>"
      ],
      "text/plain": [
       "<IPython.core.display.HTML object>"
      ]
     },
     "metadata": {},
     "output_type": "display_data"
    }
   ],
   "source": [
    "%run ../talktools.py"
   ]
  },
  {
   "cell_type": "markdown",
   "metadata": {},
   "source": [
    "# Meeting/Lecture 14 - March 5\n",
    "\n",
    "## Office Hours\n",
    "\n",
    "* No office hours for Dan today (may be able to reschedule for latter this week, if enough interest)\n",
    "* TALC: Wednesday 2-4pm in 131 Campbell\n",
    "* Oliva/Anna: Monday 1:30-2:30pm in 355 Campbell\n",
    "\n",
    "## Agenda\n",
    "\n",
    "* Introduction (this notebook, *00_Introduction*)\n",
    "* Group discussion + report back about Lab 1\n",
    "* Lab 2\n",
    "* Work/sleep time\n",
    " \n",
    "\n",
    "## Getting these notebooks \n",
    "```bash\n",
    "git clone https://github.com/ucb-datalab/course_materials_2024.git\n",
    "cd course_materials_2024\n",
    "jupyter notebook\n",
    "```"
   ]
  },
  {
   "cell_type": "code",
   "execution_count": 2,
   "metadata": {},
   "outputs": [],
   "source": [
    "students = [\"Arabhi A.\", \"Kennedy B.\", \"Pallas B.\", \"Ali F.\",\n",
    "            \"Noah F.\", \"Jillian G.\", \"Enmanuel H.\", \"Rose H.\",\n",
    "            \"Serli H.\", \"Vivian K.\", \"Sangeeta K.\",\n",
    "            \"Vy L.\", \"Matthew L.\", \"Youxun L.\", \"Neo M.\", \n",
    "            \"Tess M.\", \"Saahit M.\", \"Hien N.\", \"Sumana N.\", \"Zcjanin O.\", \n",
    "            \"David P.\", \"Angel T.\", \"Asher W.\", \"Kasey Z.\", \"Yijun Z.\" ]"
   ]
  },
  {
   "cell_type": "code",
   "execution_count": 3,
   "metadata": {},
   "outputs": [
    {
     "name": "stdout",
     "output_type": "stream",
     "text": [
      "Today we have 25 students.\n",
      "There are no name conflicts: True\n"
     ]
    }
   ],
   "source": [
    "print(f\"Today we have {len(students)} students.\")\n",
    "print(f\"There are no name conflicts: {len(students) == len(set(students))}\")"
   ]
  },
  {
   "cell_type": "code",
   "execution_count": 4,
   "metadata": {},
   "outputs": [],
   "source": [
    "n_groups = 5 # 4 groups of 4, 2 groups of 5"
   ]
  },
  {
   "cell_type": "code",
   "execution_count": 5,
   "metadata": {},
   "outputs": [],
   "source": [
    "import numpy as np\n",
    "class_seed =  8   # let's set this together\n",
    "rnd = np.random.RandomState(class_seed)"
   ]
  },
  {
   "cell_type": "code",
   "execution_count": 6,
   "metadata": {},
   "outputs": [
    {
     "data": {
      "text/plain": [
       "['Sumana N.',\n",
       " 'Neo M.',\n",
       " 'Noah F.',\n",
       " 'Asher W.',\n",
       " 'Arabhi A.',\n",
       " 'Tess M.',\n",
       " 'Rose H.',\n",
       " 'Enmanuel H.',\n",
       " 'Vy L.',\n",
       " 'Pallas B.',\n",
       " 'Angel T.',\n",
       " 'Sangeeta K.',\n",
       " 'Yijun Z.',\n",
       " 'Kennedy B.',\n",
       " 'Matthew L.',\n",
       " 'Kasey Z.',\n",
       " 'Youxun L.',\n",
       " 'Saahit M.',\n",
       " 'Zcjanin O.',\n",
       " 'Serli H.',\n",
       " 'Jillian G.',\n",
       " 'Vivian K.',\n",
       " 'Hien N.',\n",
       " 'David P.',\n",
       " 'Ali F.']"
      ]
     },
     "execution_count": 6,
     "metadata": {},
     "output_type": "execute_result"
    }
   ],
   "source": [
    "import copy\n",
    "\n",
    "shuffled_students = copy.copy(students)\n",
    "rnd.shuffle(shuffled_students)\n",
    "shuffled_students"
   ]
  },
  {
   "cell_type": "code",
   "execution_count": 7,
   "metadata": {},
   "outputs": [
    {
     "name": "stdout",
     "output_type": "stream",
     "text": [
      "Group 0: Sumana N., Neo M., Noah F., Asher W., Arabhi A.\n",
      "Group 1: Tess M., Rose H., Enmanuel H., Vy L., Pallas B.\n",
      "Group 2: Angel T., Sangeeta K., Yijun Z., Kennedy B., Matthew L.\n",
      "Group 3: Kasey Z., Youxun L., Saahit M., Zcjanin O., Serli H.\n",
      "Group 4: Jillian G., Vivian K., Hien N., David P., Ali F.\n"
     ]
    }
   ],
   "source": [
    "for group_num, members in enumerate(np.array_split(shuffled_students,  n_groups)):\n",
    "    print(f\"Group {group_num}: {', '.join(list(members))}\")"
   ]
  },
  {
   "cell_type": "markdown",
   "metadata": {},
   "source": [
    "## Questions for Lab 1\n",
    "* How did your RR Lyrae dust maps compare to SFD98?\n",
    "* Where are your dust maps most uncertain or where do they disagree most with SFD?\n",
    "* What new observations might help improve your dust map?\n",
    "* What was the most challening part of Lab 1?\n",
    "* What outstanding questions do you still have about Lab 1?\n",
    "* What can we do to help with future labs?\n",
    "* What advice would you give to someone just starting this lab?"
   ]
  },
  {
   "cell_type": "markdown",
   "metadata": {},
   "source": [
    "## Recap of some Lab 1 skills we touched on\n",
    "* Sophisticated ADQL queries\n",
    "* Caching\n",
    "* time series analysis\n",
    "* Fourier Transforms / Lomb-Scargle periodograms\n",
    "* Coding up and solving maxtrix / linear algebra equations in python\n",
    "* cross validation\n",
    "* Fourier Decomposition\n",
    "* $\\chi^2$ fitting\n",
    "* multi-component time series (e.g., RRc, Blahzko effects)\n",
    "* outlier rejection\n",
    "* Metropolis-Hastings & MCMC\n",
    "* PyMC\n",
    "* Posterior visualization (arviz, corner)\n",
    "* creating and comparing spatial maps\n",
    "* astrophysics: extinction, distances, variable stars, ...\n",
    "* ..."
   ]
  },
  {
   "cell_type": "markdown",
   "metadata": {},
   "source": [
    "Advice from an AY 128 alumni:\n",
    "\n",
    "\"Hi AY 128! This class is likely going to be one that you get so much out of. It was definitely one of my peers' and my favorite course at Cal, because we learned so much.  If you are interested in pursuing a graduate degree or going into data science, invest your time in 128 because the skills you learn are highly transferable to many different research projects! I'm now in a PhD program, and I find myself going back to the code I wrote in 128 to use in research/problem sets now.\n",
    "\n",
    "I do want to emphasize that this class is a lot of work! You get what you put in. Do the checkpoints!!! You may think it's only worth a few points so you can skip it, but your future self will thank you because they do add up and it will be so difficult to do the labs right before the deadline. There can be many hiccups along the way such as Gaia going down, so starting early does help so you're not frustrated last minute (this happened many times to our Spring 2020 class). This can't be said enough, but comment your code too. Also the GSIs are an extremely valuable resource—they are so helpful/knowledgeable!\"\n",
    "\n",
    "~ Suchi\n",
    "\n",
    "__Suchitra Narayanan__ \\\n",
    "University of California, Berkeley\\\n",
    "B.S. Chemical and Biomolecular Engineering\\\n",
    "B.A. Astrophysics\\\n",
    "Class of 2020\n",
    "\n",
    "Now an NSF Graduate Research Fellow at University of Hawaii\n"
   ]
  },
  {
   "cell_type": "markdown",
   "metadata": {},
   "source": [
    "## Lab 2 -- Modeling Stellar Spectra\n",
    "\n",
    "* Today: overview of the lab\n",
    "* Thursday: physics of stellar spectra, intro to APOGEE\n",
    "* Schedule:\n",
    "  - Checkpoint 1 due Tuesday 3/12 by 11:59pm\n",
    "  - Checkpoint 2 due Tuesday 3/19 by 11:59pm\n",
    "  - March 25-29: Spring break\n",
    "  - Checkpoint 3 due Tuesday 4/4 by 11:59pm\n",
    "  - Lab report due by Thursday 4/6 by 11:59pm\n",
    "\n",
    "* __Stellar Spectra__\n",
    "\n",
    "<img src=\"https://voyages.sdss.org/wp-content/uploads/2018/03/sky-bas-type-spec-im2.jpg\"></img>\n",
    "\n",
    "* <a href=\"https://www.sdss4.org/surveys/apogee/\">APOGEE Survey</a>\n",
    "\n",
    "\n",
    "* __APOGEE Spectra__\n",
    "<img src=\"https://www.sdss3.org/images/apogee/temp_sequence.png\"></img>"
   ]
  },
  {
   "cell_type": "code",
   "execution_count": null,
   "metadata": {},
   "outputs": [],
   "source": []
  }
 ],
 "metadata": {
  "kernelspec": {
   "display_name": "Python 3 (ipykernel)",
   "language": "python",
   "name": "python3"
  },
  "language_info": {
   "codemirror_mode": {
    "name": "ipython",
    "version": 3
   },
   "file_extension": ".py",
   "mimetype": "text/x-python",
   "name": "python",
   "nbconvert_exporter": "python",
   "pygments_lexer": "ipython3",
   "version": "3.9.18"
  }
 },
 "nbformat": 4,
 "nbformat_minor": 4
}
