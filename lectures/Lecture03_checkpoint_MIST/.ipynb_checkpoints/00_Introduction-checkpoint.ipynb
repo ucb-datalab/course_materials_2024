{
 "cells": [
  {
   "cell_type": "code",
   "execution_count": null,
   "metadata": {},
   "outputs": [],
   "source": [
    "%run ../talktools.py"
   ]
  },
  {
   "cell_type": "markdown",
   "metadata": {},
   "source": [
    "# Meeting/Lecture 3 - Jan 25\n",
    "\n",
    "\n",
    "\n",
    "## Agenda\n",
    " \n",
    "* __Lab 0 checkpoint 2 due at midnight on Tuesday 1/30__\n",
    "* __Lab 0 due at midnight on Thursday 2/1__\n",
    "* __Lab 1 starts on Tuesday 2/6__\n",
    " \n",
    "* Introduction (this notebook, *00_Introduction*)\n",
    " - Lab 0, Checkpoint 1 discussion in groups + report out\n",
    " - Lab 0 feedback from GSIs\n",
    "* MIST and PARSEC models\n",
    "* Working time\n",
    "\n",
    "## Getting these notebooks \n",
    "```bash\n",
    "git clone https://github.com/ucb-datalab/course_materials_2024.git\n",
    "cd course_materials_2024\n",
    "jupyter notebook\n",
    "```"
   ]
  },
  {
   "cell_type": "code",
   "execution_count": null,
   "metadata": {},
   "outputs": [],
   "source": [
    "students = [\"Arabhi A.\", \"Kennedy B.\", \"Pallas B.\", \"Ali F.\",\n",
    "            \"Noah F.\", \"Jillian G.\", \"Enmanuel H.\", \"Rose H.\",\n",
    "            \"Serli H.\", \"Toshani K.\", \"Vivian K.\", \"Sagneeta K.\",\n",
    "            \"Manpreet K.\", \"Vy L.\", \"Matthew L.\", \"Youxun L.\", \"Neo M.\", \n",
    "            \"Tess M.\", \"Saahit M.\", \"Hien N.\", \"Zcjanin O.\", \"David P.\",\n",
    "            \"Angel T.\", \"Asher W.\", \"Kasey Z.\", \"Yijun Z.\" ]"
   ]
  },
  {
   "cell_type": "code",
   "execution_count": null,
   "metadata": {},
   "outputs": [],
   "source": [
    "print(f\"Today we have {len(students)} students.\")\n",
    "print(f\"There are no name conflicts: {len(students) == len(set(students))}\")"
   ]
  },
  {
   "cell_type": "code",
   "execution_count": null,
   "metadata": {},
   "outputs": [],
   "source": [
    "n_groups = 6 # 4 groups of 4, 2 groups of 5"
   ]
  },
  {
   "cell_type": "markdown",
   "metadata": {},
   "source": [
    "When using randomness, it's almost always a good idea to be able to reproduce the\n",
    "results. Pseudo-random number generators are \"seeded\" with a number and then yield \n",
    "seemingly random numbers after that. But those numbers are deterministic given the seed\n",
    "and the calling sequence of the generator.\n",
    "\n",
    "See https://www.numpy.org/devdocs/reference/generated/numpy.random.RandomState.html"
   ]
  },
  {
   "cell_type": "code",
   "execution_count": null,
   "metadata": {},
   "outputs": [],
   "source": [
    "class_seed =     # let's set this together\n",
    "rnd = np.random.RandomState(class_seed)"
   ]
  },
  {
   "cell_type": "code",
   "execution_count": null,
   "metadata": {},
   "outputs": [],
   "source": [
    "import copy\n",
    "\n",
    "shuffled_students = copy.copy(students)\n",
    "rnd.shuffle(shuffled_students)\n",
    "shuffled_students"
   ]
  },
  {
   "cell_type": "markdown",
   "metadata": {},
   "source": [
    "Now make the groups..."
   ]
  },
  {
   "cell_type": "code",
   "execution_count": null,
   "metadata": {},
   "outputs": [],
   "source": [
    "for group_num, members in enumerate(np.array_split(shuffled_students,  n_groups)):\n",
    "    print(f\"Group {group_num}: {', '.join(list(members))}\")"
   ]
  },
  {
   "cell_type": "markdown",
   "metadata": {},
   "source": [
    "##  Some questions from Checkpoint 1\n",
    " - \"Is this right?\"\n",
    " - \"How big is the cluster?\"\n",
    " - \"Are all of these stars members of the cluster?\"\n",
    " - \"What cuts should I use?\"\n",
    " - \"What about outliers?\"\n",
    " - \"What plot axes should I use?\"\n",
    " - \"How should I use color on my plots?\""
   ]
  },
  {
   "cell_type": "markdown",
   "metadata": {},
   "source": [
    "## Stellar Models\n",
    "\n",
    "* MESA Isochrones & Stellar Tracks (MIST) https://waps.cfa.harvard.edu/MIST/\n",
    " - Choi et al. (2016)\n",
    "* PAdova and tRieste Stellar Evolutionary Code (PARSEC): http://stev.oapd.inaf.it/PARSEC/\n",
    " - Bressan et al. (2012)"
   ]
  },
  {
   "cell_type": "code",
   "execution_count": null,
   "metadata": {},
   "outputs": [],
   "source": []
  }
 ],
 "metadata": {
  "kernelspec": {
   "display_name": "Python 3 (ipykernel)",
   "language": "python",
   "name": "python3"
  },
  "language_info": {
   "codemirror_mode": {
    "name": "ipython",
    "version": 3
   },
   "file_extension": ".py",
   "mimetype": "text/x-python",
   "name": "python",
   "nbconvert_exporter": "python",
   "pygments_lexer": "ipython3",
   "version": "3.7.4"
  }
 },
 "nbformat": 4,
 "nbformat_minor": 4
}
