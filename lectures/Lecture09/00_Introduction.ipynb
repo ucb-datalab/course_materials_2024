{
 "cells": [
  {
   "cell_type": "code",
   "execution_count": null,
   "metadata": {},
   "outputs": [],
   "source": [
    "%run ../talktools.py"
   ]
  },
  {
   "cell_type": "markdown",
   "metadata": {},
   "source": [
    "# Meeting/Lecture 9 - Feb 15\n",
    "\n",
    "\n",
    "## Office Hours\n",
    "\n",
    "* Anna/Olivia: Monday 2:30-3:30pm in 355 Monday\n",
    "* Dan: Tuesday 3:30-4:30pm in 355 Campbell\n",
    "* TALC: Wednesday 2-4pm in 131 Campbell\n",
    "\n",
    "## Agenda\n",
    " \n",
    "* __Lab 1 checkpoint 2 due today by midnight via bCourses__\n",
    " - note this is a different time than indicated in the lab\n",
    "* Lab 0 grading update\n",
    "* Introduction (this notebook, *00_Introduction*)\n",
    "* Lab 1 checkpoint 1 discussion in groups + report out\n",
    "* Lab 1 checkpoint 1 feedback\n",
    "* Convergence (*01_Convergence*)\n",
    "* Work time\n",
    " \n",
    "\n",
    "## Getting these notebooks \n",
    "```bash\n",
    "git clone https://github.com/ucb-datalab/course_materials_2024.git\n",
    "cd course_materials_2024\n",
    "jupyter notebook\n",
    "```"
   ]
  },
  {
   "cell_type": "code",
   "execution_count": null,
   "metadata": {},
   "outputs": [],
   "source": [
    "students = [\"Arabhi A.\", \"Kennedy B.\", \"Pallas B.\", \"Ali F.\",\n",
    "            \"Noah F.\", \"Jillian G.\", \"Enmanuel H.\", \"Rose H.\",\n",
    "            \"Serli H.\", \"Vivian K.\", \"Sangeeta K.\",\n",
    "            \"Vy L.\", \"Matthew L.\", \"Youxun L.\", \"Neo M.\", \n",
    "            \"Tess M.\", \"Saahit M.\", \"Hien N.\", \"Sumana N.\", \"Zcjanin O.\", \n",
    "            \"David P.\", \"Angel T.\", \"Asher W.\", \"Kasey Z.\", \"Yijun Z.\" ]"
   ]
  },
  {
   "cell_type": "code",
   "execution_count": null,
   "metadata": {},
   "outputs": [],
   "source": [
    "print(f\"Today we have {len(students)} students.\")\n",
    "print(f\"There are no name conflicts: {len(students) == len(set(students))}\")"
   ]
  },
  {
   "cell_type": "code",
   "execution_count": null,
   "metadata": {},
   "outputs": [],
   "source": [
    "n_groups = 5 # 4 groups of 4, 2 groups of 5"
   ]
  },
  {
   "cell_type": "code",
   "execution_count": null,
   "metadata": {},
   "outputs": [],
   "source": [
    "import numpy as np\n",
    "class_seed =  74   # let's set this together\n",
    "rnd = np.random.RandomState(class_seed)"
   ]
  },
  {
   "cell_type": "code",
   "execution_count": null,
   "metadata": {},
   "outputs": [],
   "source": [
    "import copy\n",
    "\n",
    "shuffled_students = copy.copy(students)\n",
    "rnd.shuffle(shuffled_students)\n",
    "shuffled_students"
   ]
  },
  {
   "cell_type": "code",
   "execution_count": null,
   "metadata": {},
   "outputs": [],
   "source": [
    "for group_num, members in enumerate(np.array_split(shuffled_students,  n_groups)):\n",
    "    print(f\"Group {group_num}: {', '.join(list(members))}\")"
   ]
  },
  {
   "cell_type": "markdown",
   "metadata": {},
   "source": [
    "## Lab 1 checkpoint 1 discussion\n",
    "\n",
    "* What challenges, if any, did you have with the ADQL queires?\n",
    "* How well do your 100 light curve periods compare to those from Gaia?\n",
    "* What value(s) of K do you think reasonably describe RR Lyrae light curves?  \n",
    "* In your group, make a list of outstanding questions or things you still don't understand and report them back to the class.  These can be at any level (What does $\\chi^2$ mean?, I don't understand cross-validation, how do I convert from flux to magnitude?, ...)"
   ]
  },
  {
   "cell_type": "code",
   "execution_count": null,
   "metadata": {},
   "outputs": [],
   "source": []
  }
 ],
 "metadata": {
  "kernelspec": {
   "display_name": "Python 3",
   "language": "python",
   "name": "python3"
  },
  "language_info": {
   "codemirror_mode": {
    "name": "ipython",
    "version": 3
   },
   "file_extension": ".py",
   "mimetype": "text/x-python",
   "name": "python",
   "nbconvert_exporter": "python",
   "pygments_lexer": "ipython3",
   "version": "3.8.8"
  }
 },
 "nbformat": 4,
 "nbformat_minor": 4
}
