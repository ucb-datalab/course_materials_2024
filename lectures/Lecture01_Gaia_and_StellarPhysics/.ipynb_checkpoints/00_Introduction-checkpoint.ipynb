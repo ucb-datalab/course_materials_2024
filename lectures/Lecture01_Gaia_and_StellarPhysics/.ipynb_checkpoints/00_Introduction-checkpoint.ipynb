{
 "cells": [
  {
   "cell_type": "code",
   "execution_count": null,
   "metadata": {},
   "outputs": [],
   "source": [
    "%run ../talktools.py"
   ]
  },
  {
   "cell_type": "markdown",
   "metadata": {},
   "source": [
    "# Meeting/Lecture 1 - Jan 18\n",
    "\n",
    "\n",
    "\n",
    "## Agenda\n",
    "\n",
    "* Office Hours\n",
    " - Oliva/Anna Monday 2:30-3:30 pm; 355 Campbell\n",
    " - Dan Tuesday 3:30-4:30 pm; 355 Campbell\n",
    " - TALC Weds 2-4pm 131 Campbell\n",
    " - by appt\n",
    " - Communications on Ed Discussion\n",
    " \n",
    "* Introduction (this notebook, *00_Introduction*)\n",
    "* Caching (*02_caching* from Lecture 0)\n",
    "* Gaia (*01_Gaia*)\n",
    "\n",
    "* A little break\n",
    "\n",
    "* Stellar Physics Review (*02_HR*)\n",
    "\n",
    "* Lab 0 work time (if time)"
   ]
  },
  {
   "cell_type": "code",
   "execution_count": null,
   "metadata": {},
   "outputs": [],
   "source": []
  }
 ],
 "metadata": {
  "kernelspec": {
   "display_name": "Python 3 (ipykernel)",
   "language": "python",
   "name": "python3"
  },
  "language_info": {
   "codemirror_mode": {
    "name": "ipython",
    "version": 3
   },
   "file_extension": ".py",
   "mimetype": "text/x-python",
   "name": "python",
   "nbconvert_exporter": "python",
   "pygments_lexer": "ipython3",
   "version": "3.7.4"
  }
 },
 "nbformat": 4,
 "nbformat_minor": 4
}
