{
 "cells": [
  {
   "cell_type": "code",
   "execution_count": null,
   "metadata": {},
   "outputs": [],
   "source": [
    "%run ../talktools.py"
   ]
  },
  {
   "cell_type": "markdown",
   "metadata": {},
   "source": [
    "# Meeting/Lecture 17 - March 14\n",
    "\n",
    "## Office Hours\n",
    "\n",
    "* Anna: Friday 10:30-11:30am in 219 Campbell \n",
    "* Oliva: Monday 1:30-2:30pm in 355 Campbell\n",
    "* Dan: Tuesday 3:30-4:30pm in 355 Campbell\n",
    "* TALC: Wednesday 2-4pm in 131 Campbell\n",
    "* As always, by appointment -- please email us to set up a time\n",
    "\n",
    "\n",
    "## Agenda\n",
    "\n",
    "* Introduction (this notebook, *00_Introduction*)\n",
    "* Wavelength interpolation issue\n",
    "* Finish walking through Ness et al. (*01_The_Cannon*)\n",
    "* Work/question time\n",
    "\n",
    "## Lab 2\n",
    "* Checkpoint 1 is now due __today__ by 11:59pm\n",
    "* Checkpoint 2 due next Thursday (3/21) by 11:59pm\n",
    "* Spring break: 3/25-3/29\n",
    "* Checkpoint 3 due Tuesday 4/2 by 11:59pm\n",
    "* Lab report due Thursday 4/4 by 11:59pm\n",
    " \n",
    "\n",
    "## Getting these notebooks \n",
    "```bash\n",
    "git clone https://github.com/ucb-datalab/course_materials_2024.git\n",
    "cd course_materials_2024\n",
    "jupyter notebook\n",
    "```"
   ]
  },
  {
   "cell_type": "markdown",
   "metadata": {},
   "source": [
    "## Wavelength interpolation issue\n",
    "* Essence of the issue: wavelength grid generated from .FITS files and continuum pixels are on slightly different wavelength scales\n",
    "* Correct way to resolve: interpolate spectrum from FITS files onto provided wavelength grid\n",
    " - yields improved continnum normalization\n",
    "* It turns out that if you don't do this,  you can still do pretty well\n",
    " - fits should look OK and scatter/bias/etc are still acceptably small\n"
   ]
  },
  {
   "cell_type": "code",
   "execution_count": null,
   "metadata": {},
   "outputs": [],
   "source": [
    "import numpy as np\n",
    "import pylab as plt\n",
    "from astropy.io import fits\n",
    "\n",
    "# load continuum pixels\n",
    "continuum = np.load('../../labs/lab2_data/cannon_continuum_apogee.npz')\n",
    "# load apogee wavelength grid\n",
    "apogee_wl = np.load('../../labs/lab2_data/apogee_wavelength.npz')\n",
    "\n",
    "# load example spectrum\n",
    "hdr = fits.getheader('../../labs/lab2_data/mystery_spec_wiped.fits')\n",
    "spec = fits.getdata('../../labs/lab2_data/mystery_spec_wiped.fits')\n",
    "\n",
    "# build wavelength grid from spectrum file\n",
    "wl = 10**np.arange(hdr['crval1'], hdr['crval1']+len(spec)*hdr['cdelt1'], hdr['cdelt1'])\n",
    "\n",
    "\n",
    "# interpolate specturm onto new grid\n",
    "new_spec = np.interp(apogee_wl['wavelength'], wl, spec)"
   ]
  },
  {
   "cell_type": "code",
   "execution_count": null,
   "metadata": {},
   "outputs": [],
   "source": [
    "plt.figure(figsize=(12,10))\n",
    "plt.plot(wl, spec)\n",
    "plt.plot(apogee_wl['wavelength'], new_spec, lw=0.5\n",
    "        )\n",
    "plt.scatter(continuum['wavelengths'][continuum['trusted']], new_spec[continuum['trusted']], c='r' )\n",
    "plt.xlabel('Wavelength ($\\AA$)')\n",
    "plt.ylabel('Flux (Arbitrary units)')"
   ]
  },
  {
   "cell_type": "code",
   "execution_count": null,
   "metadata": {},
   "outputs": [],
   "source": [
    "plt.figure(figsize=(12,10))\n",
    "plt.plot(wl, spec)\n",
    "plt.plot(apogee_wl['wavelength'], new_spec, lw=1\n",
    "        )\n",
    "plt.scatter(continuum['wavelengths'][continuum['trusted']], new_spec[continuum['trusted']], c='r' )\n",
    "plt.xlim(15500, 15550)\n",
    "plt.xlabel('Wavelength ($\\AA$)')\n",
    "plt.ylabel('Flux (Arbitrary units)')"
   ]
  },
  {
   "cell_type": "code",
   "execution_count": null,
   "metadata": {},
   "outputs": [],
   "source": [
    "students = [\"Arabhi A.\", \"Kennedy B.\", \"Pallas B.\", \"Ali F.\",\n",
    "            \"Noah F.\", \"Jillian G.\", \"Enmanuel H.\", \"Rose H.\",\n",
    "            \"Serli H.\", \"Vivian K.\", \"Sangeeta K.\",\n",
    "            \"Vy L.\", \"Matthew L.\", \"Youxun L.\", \"Neo M.\", \n",
    "            \"Tess M.\", \"Saahit M.\", \"Hien N.\", \"Sumana N.\", \"Zcjanin O.\", \n",
    "            \"David P.\", \"Angel T.\", \"Asher W.\", \"Kasey Z.\", \"Yijun Z.\" ]"
   ]
  },
  {
   "cell_type": "code",
   "execution_count": null,
   "metadata": {},
   "outputs": [],
   "source": [
    "print(f\"Today we have {len(students)} students.\")\n",
    "print(f\"There are no name conflicts: {len(students) == len(set(students))}\")"
   ]
  },
  {
   "cell_type": "code",
   "execution_count": null,
   "metadata": {},
   "outputs": [],
   "source": [
    "n_groups = 5 # 4 groups of 4, 2 groups of 5"
   ]
  },
  {
   "cell_type": "code",
   "execution_count": null,
   "metadata": {},
   "outputs": [],
   "source": [
    "import numpy as np\n",
    "class_seed =  8   # let's set this together\n",
    "rnd = np.random.RandomState(class_seed)"
   ]
  },
  {
   "cell_type": "code",
   "execution_count": null,
   "metadata": {},
   "outputs": [],
   "source": [
    "import copy\n",
    "\n",
    "shuffled_students = copy.copy(students)\n",
    "rnd.shuffle(shuffled_students)\n",
    "shuffled_students"
   ]
  },
  {
   "cell_type": "code",
   "execution_count": null,
   "metadata": {},
   "outputs": [],
   "source": [
    "for group_num, members in enumerate(np.array_split(shuffled_students,  n_groups)):\n",
    "    print(f\"Group {group_num}: {', '.join(list(members))}\")"
   ]
  },
  {
   "cell_type": "markdown",
   "metadata": {},
   "source": [
    "## Checkpoint 1 discussion topics\n",
    "* How easy/challenging was it to access the data? How did it compare to using ADQL?\n",
    "* Do you understand the physical meanings of T$_{\\rm eff}$, log(g), and [Fe/H]?\n",
    "* Do you have any better understanding of bitmasks?\n",
    "* Does your normalized continnuum look reasonable to you?\n",
    "* Do you have questions on linear models and/or optimization yet?"
   ]
  },
  {
   "cell_type": "code",
   "execution_count": null,
   "metadata": {},
   "outputs": [],
   "source": []
  }
 ],
 "metadata": {
  "kernelspec": {
   "display_name": "Python 3",
   "language": "python",
   "name": "python3"
  },
  "language_info": {
   "codemirror_mode": {
    "name": "ipython",
    "version": 3
   },
   "file_extension": ".py",
   "mimetype": "text/x-python",
   "name": "python",
   "nbconvert_exporter": "python",
   "pygments_lexer": "ipython3",
   "version": "3.8.8"
  }
 },
 "nbformat": 4,
 "nbformat_minor": 4
}
