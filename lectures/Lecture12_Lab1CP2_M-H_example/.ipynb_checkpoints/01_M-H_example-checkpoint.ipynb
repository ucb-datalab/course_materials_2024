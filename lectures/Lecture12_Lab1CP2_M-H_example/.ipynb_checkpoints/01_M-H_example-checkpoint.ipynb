{
 "cells": [
  {
   "cell_type": "code",
   "execution_count": null,
   "id": "5822a4e3",
   "metadata": {},
   "outputs": [],
   "source": [
    "%run ../talktools.py"
   ]
  },
  {
   "cell_type": "markdown",
   "id": "365f8820",
   "metadata": {},
   "source": [
    "# MCMC: M-H worked example \n",
    "\n",
    "### AY 128/256 (UC Berkeley, 2024)\n",
    "\n",
    "Here we'll use M-H to sample from a 1D Gaussian."
   ]
  },
  {
   "cell_type": "markdown",
   "id": "d5a2c3b4",
   "metadata": {},
   "source": [
    "<img src=ma.png></img>\n",
    "<img src=ma1.png></img>"
   ]
  },
  {
   "cell_type": "markdown",
   "id": "f8c6c998",
   "metadata": {},
   "source": [
    "#### Sampling from a 1-D Gaussian"
   ]
  },
  {
   "cell_type": "code",
   "execution_count": null,
   "id": "4353b974",
   "metadata": {},
   "outputs": [],
   "source": [
    "import numpy as np\n",
    "\n",
    "def gauss_prop(x0, sigma = 1.):\n",
    "    '''\n",
    "    the \"proposal distribution\". We'll use a Gaussian. \n",
    "    suggests a new value x1 to try, given a current value x0.\n",
    "    '''\n",
    "    x1 = np.random.normal(x0, sigma)\n",
    "    return x1\n",
    "\n",
    "def get_log_alpha(log_P, x0, x1):\n",
    "    '''\n",
    "    given a current position x0 and a proposed position x1, calculate alpha. \n",
    "    alpha is the ratio of log_P(x1)/log_P(x0), so log(alpha) = log_P(x1) - log_P(x0)\n",
    "    Here log_P is a function.\n",
    "    '''\n",
    "    return log_P(x1) - log_P(x0)\n",
    "\n",
    "def should_we_move(log_P, x0, x1):\n",
    "    '''\n",
    "    the \"accept the candidate with probability alpha\" step. Returns True if \n",
    "    you should accept x1; False otherwise. \n",
    "    '''\n",
    "    log_alpha = get_log_alpha(log_P = log_P, x0 = x0, x1 = x1)\n",
    "\n",
    "    if log_alpha >= 0:\n",
    "        return True\n",
    "    else:\n",
    "        # generate a random number between 0 and 1\n",
    "        rand_num = np.random.uniform()\n",
    "        \n",
    "        if np.exp(log_alpha) >= rand_num:\n",
    "            return True\n",
    "        else:\n",
    "            return False\n",
    "        \n",
    "def get_n_metropolis_hasting_samples(log_P, x0, n = 10000, step = 1):\n",
    "    '''\n",
    "    draw n samples from a pdf P. \n",
    "    '''\n",
    "    samples, num_samples = [x0], 1\n",
    "    \n",
    "    while num_samples < n:\n",
    "        x_cur = samples[num_samples - 1]\n",
    "        x_prop = gauss_prop(x0 = x_cur, sigma = step)\n",
    "\n",
    "        # if the proposal is accepted, store the proposed step\n",
    "        # else store the current step\n",
    "        if should_we_move(log_P = log_P, x0 = x_cur, x1 = x_prop):\n",
    "            samples.append(x_prop)\n",
    "        else:\n",
    "            samples.append(x_cur)\n",
    "        num_samples += 1\n",
    "    \n",
    "    return samples\n",
    "\n",
    "\n",
    "def get_acceptance_fraction(samples):\n",
    "    '''\n",
    "    check what fraction of the time the chain accepts the proposal\n",
    "    and moves on.  \n",
    "    '''\n",
    "    num_accepted = 0\n",
    "    for i, theta in enumerate(samples):\n",
    "        if np.array_equal(samples[i-1], samples[i]):\n",
    "            # if two consecutive thetas are equal, proposal was not accepted\n",
    "            continue\n",
    "        num_accepted += 1\n",
    "        \n",
    "    return num_accepted/(len(samples)-1)"
   ]
  },
  {
   "cell_type": "code",
   "execution_count": null,
   "id": "4f1fbe6e",
   "metadata": {},
   "outputs": [],
   "source": [
    "def ln_gaussian_to_draw_from(x, mu = 1, sigma = 0.1):\n",
    "    '''\n",
    "    Gaussian distribution in log space\n",
    "    doesn't need to be normalized\n",
    "    '''\n",
    "    return -(np.asarray(x)-mu)**2/(2*sigma**2)\n",
    "\n",
    "samples = get_n_metropolis_hasting_samples(log_P = ln_gaussian_to_draw_from, \n",
    "                x0 = 1., n = 10000, step = 0.5)\n",
    "\n",
    "\n",
    "print(get_acceptance_fraction(samples))"
   ]
  },
  {
   "cell_type": "code",
   "execution_count": null,
   "id": "00466fcb",
   "metadata": {},
   "outputs": [],
   "source": [
    "import pylab as plt\n",
    "\n",
    "plt.plot(samples, alpha=0.5, lw=0.5)\n",
    "plt.ylabel('x')\n",
    "plt.xlabel('step')"
   ]
  },
  {
   "cell_type": "code",
   "execution_count": null,
   "id": "1060060c",
   "metadata": {},
   "outputs": [],
   "source": [
    "plt.hist(samples, bins=100)\n",
    "plt.xlabel('x')\n",
    "plt.ylabel('Number')"
   ]
  },
  {
   "cell_type": "code",
   "execution_count": null,
   "id": "95ce4b70",
   "metadata": {},
   "outputs": [],
   "source": [
    "plt.plot(ln_gaussian_to_draw_from(samples), alpha=0.5, lw=0.5)\n",
    "plt.xlabel('Step')\n",
    "plt.ylabel('lnP')"
   ]
  },
  {
   "cell_type": "markdown",
   "id": "2721b325",
   "metadata": {},
   "source": [
    "### Variations to Explore\n",
    "* step size\n",
    "* chain length\n",
    "* initial conditions"
   ]
  },
  {
   "cell_type": "markdown",
   "id": "253cecd2",
   "metadata": {},
   "source": [
    "### Reformulate sampling a 1D Gaussian in terms of having an explicit likelihood function and prior"
   ]
  },
  {
   "cell_type": "code",
   "execution_count": null,
   "id": "b2cd3d47",
   "metadata": {},
   "outputs": [],
   "source": [
    "# log-likelihood function\n",
    "def ln_like(x, mu, sigma):\n",
    "    return -(np.asarray(x)-mu)**2/(2*sigma**2)\n",
    "\n",
    "# log prior\n",
    "def ln_prior(x, x_upper, x_lower):\n",
    "    '''\n",
    "    specific for this problem (flat priors)\n",
    "    '''\n",
    "    lnP = 0\n",
    "    if (x < x_lower) or (x > x_upper):\n",
    "        lnP = -1000\n",
    "    return lnP\n",
    "\n",
    "# log-posterior\n",
    "def lnP(x, mu = 1, sigma = 0.1):\n",
    "    return ln_like(x, mu, sigma) + ln_prior(x,-10, 10)\n",
    "\n",
    "samples_like = get_n_metropolis_hasting_samples(log_P = lnP, x0 = 1., n = 10000, step = 0.5 )\n",
    "get_acceptance_fraction(samples_like)"
   ]
  },
  {
   "cell_type": "code",
   "execution_count": null,
   "id": "787e3367",
   "metadata": {},
   "outputs": [],
   "source": [
    "plt.plot(samples_like, alpha=0.5, lw=0.5)\n",
    "plt.ylabel('x')\n",
    "plt.xlabel('step')"
   ]
  },
  {
   "cell_type": "markdown",
   "id": "e10eeb1b",
   "metadata": {},
   "source": [
    "### What modifications need to be made to apply this to >1 dimension?\n",
    "* suppose we want to fit funcation form y=xm+b and a scatter term\n",
    "* need to move beyond 1 dimension\n",
    " - replace mu in ln_like with mx+b\n",
    " - replace sigma in ln_like with np.sqrt(sigma_data^2 + sigma_model^2)\n",
    " - update ln_prior so that there are priors on m, b, and sigma_model\n",
    " - have initial values for m, b, sigma_model\n",
    " - update a few of the M-H functions to take in multiple variables"
   ]
  },
  {
   "cell_type": "code",
   "execution_count": null,
   "id": "bb0c0340",
   "metadata": {},
   "outputs": [],
   "source": []
  }
 ],
 "metadata": {
  "kernelspec": {
   "display_name": "Python 3",
   "language": "python",
   "name": "python3"
  },
  "language_info": {
   "codemirror_mode": {
    "name": "ipython",
    "version": 3
   },
   "file_extension": ".py",
   "mimetype": "text/x-python",
   "name": "python",
   "nbconvert_exporter": "python",
   "pygments_lexer": "ipython3",
   "version": "3.8.8"
  }
 },
 "nbformat": 4,
 "nbformat_minor": 5
}
